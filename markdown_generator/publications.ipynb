{
 "cells": [
  {
   "cell_type": "markdown",
   "metadata": {
    "deletable": true,
    "editable": true
   },
   "source": [
    "# Publications markdown generator for academicpages\n",
    "\n",
    "Takes a TSV of publications with metadata and converts them for use with [academicpages.github.io](academicpages.github.io). This is an interactive Jupyter notebook ([see more info here](http://jupyter-notebook-beginner-guide.readthedocs.io/en/latest/what_is_jupyter.html)). The core python code is also in `publications.py`. Run either from the `markdown_generator` folder after replacing `publications.tsv` with one containing your data.\n",
    "\n",
    "TODO: Make this work with BibTex and other databases of citations, rather than Stuart's non-standard TSV format and citation style.\n"
   ]
  },
  {
   "cell_type": "markdown",
   "metadata": {},
   "source": [
    "## Data format\n",
    "\n",
    "The TSV needs to have the following columns: pub_date, title, venue, excerpt, citation, site_url, and paper_url, with a header at the top. \n",
    "\n",
    "- `excerpt` and `paper_url` can be blank, but the others must have values. \n",
    "- `pub_date` must be formatted as YYYY-MM-DD.\n",
    "- `url_slug` will be the descriptive part of the .md file and the permalink URL for the page about the paper. The .md file will be `YYYY-MM-DD-[url_slug].md` and the permalink will be `https://[yourdomain]/publications/YYYY-MM-DD-[url_slug]`\n",
    "\n",
    "This is how the raw file looks (it doesn't look pretty, use a spreadsheet or other program to edit and create)."
   ]
  },
  {
   "cell_type": "code",
   "execution_count": 25,
   "metadata": {
    "collapsed": false
   },
   "outputs": [
    {
     "name": "stdout",
     "output_type": "stream",
     "text": [
      "pub_date\ttitle\tvenue\texcerpt\tcitation\turl_slug\tpaper_url\r",
      "\r\n",
      "5/1/15\tTemperature and pressure dependence of methane correlations and osmotic second virial coefficients in water\tThe Journal of Physical Chemistry B\t\"We report methane�s osmotic virial coefficient over the temperatures 275 to 370 K and pressures from 1 bar up to 5000 bar evaluated using molecular simulations of a united-atom description of methane in TIP4P/2005 water. In the first half of this work, we describe an approach for calculating the water-mediated contribution to the methane�methane potential-of-mean force over all separations down to complete overlap. The enthalpic, entropic, heat capacity, volumetric, compressibility, and thermal expansivity contributions to the water-mediated interaction free energy are subsequently extracted from these simulations by fitting to a thermodynamic expansion over all the simulated state points. In the second half of this work, methane�s correlation functions are used to evaluate its osmotic second virial coefficient in the temperature�pressure plane. The virial coefficients evaluated from the McMillan�Mayer correlation function integral are shown to be in excellent agreement with those determined from the concentration dependence of methane�s excess chemical potential, providing an independent thermodynamic consistency check on the accuracy of the procedures used here. At atmospheric pressure the osmotic virial coefficient decreases with increasing temperature, indicative of increasing hydrophobic interactions. At low temperature, the virial coefficient decreases with increasing pressure while at high temperature the virial coefficient increases with increasing pressure, reflecting the underlying hyperbolic dependence of the virial coefficient on temperature and pressure. The transition between a decreasing to increasing pressure response of the osmotic virial coefficient is shown to follow the response of the methane�methane contact peak to changes in pressure as a function of temperature, though a universal correlation is not observed.\"\t\"Ashbaugh, H. S., Weiss, K., Meng, B., Surampudi, L. N., Temperature and Pressure Dependence of Methane Correlations and Osmotic Second Virial Coefficients in Water. Journal of Physical Chemistry 2015, 119�(20), 6280�6294.\"\tpaper-1\thttp://lalitsurampudi.github.io/files/paper1.pdf\r",
      "\r\n",
      "6/9/14\tDirect evaluation of polypeptide partial molar volumes in water using molecular dynamics simulations\tJournal of Chemical & Engineering Data\t\"Molecular simulations of a series of tri- and tetrapeptides with the sequences Gly-X-Gly and Gly-X-Y-Gly, where X and Y are neutral amino acid side chains, have been performed to characterize their volumetric properties in water at 300 K. The chains were terminated with both zwitterionic and neutral�N-acetyl/amide functionalities to examine end group effects. The simulations accurately capture the experimental effects of side chain mutations and increasing peptide length, suggesting simulations can provide insight into the properties of unfolded oligopeptides and proteins. For the zwitterionic terminated chains, however, simulations exhibit a constant, lower volume than the experiment, suggesting that simulations over-predict electrostriction by the charged end groups. The simulation volumes are well-described by a group additivity based correlation, yielding excellent agreement between simulated side chain group volumes and the experiment. The accuracy of our simulations and fidelity of the group additivity model to reproduce simulation volumes suggest that it is possible to screen the potential effects of side chain interactions on group volumes especially when they are charged with longer ranged interactions.\"\t\"Surampudi, L. N.; Ashbaugh, H. S., Direct Evaluation of Polypeptide Partial Molar Volumes in Water Using Molecular Dynamics Simulations. Journal of Chemical and Engineering Data 2014, 59, 3130-3135.\"\tpaper-2\thttp://lalitsurampudi.github.io/files/paper2.pdf\r",
      "\r\n",
      "12/5/08\tNumerical validation of ift in the analysis of protein�surfactant complexes with saxs and sans\tLangmuir\t\"The use of the indirect Fourier transform methods for evaluating structural parameters directly in real space with small-angle scattering measurements is validated for the analysis of protein-surfactant complexes. An efficient Monte Carlo approach rapidly generates in silico structures based on a realistic pearl-necklace model for denatured proteins decorated with surfactant micelles. Corresponding scattering profiles are calculated and averaged over a large number of possible configurations for each structure. IFT algorithms are then used to calculate the corresponding pair-distance distribution function, and structural information is extracted directly without model fitting. The extracted parameters are compared and correlated with the known structure of the simulated complexes to assess the quality of the information that can be reliably obtained from these systems. The average extension, nearest-neighbor micelle distance, and average number of associated micelles are all accurately extracted through IFT calculations. Improved and simple approaches to reliably extract the average extension of the complex and the total number of associated micelles are presented.\"\t\"Franklin, J. M.; Surampudi, L. N.; Ashbaugh, H. S.; Pozzo, D. C., Numerical Validation of IFT in the Analysis of Protein-Surfactant Complexes with SAXS and SANS.�Langmuir�2012,�28�(34), 12593-12600\"\tpaper-3\thttp://lalitsurampudi.github.io/files/paper3.pdf\r",
      "\r\n",
      "11/3/08\tOptimization of linear and branched alkane interactions with water to simulate hydrophobic hydration\tThe Journal of Chemical Physics\t\"Previous studies of simple gas hydration have demonstrated that the accuracy of molecular simulations at capturing the thermodynamic signatures of�hydrophobic�hydration is linked both to the fidelity of the�water�model at replicating the experimental liquid density at ambient pressure and an accounting of polarization�interactions�between the solute and�water.�We extend those studies to examine alkane hydration using the transferable potentials for phase equilibria united-atom model for linear and branched alkanes, developed to reproduce alkane phase behavior, and the TIP4P/2005 model for�water,�which provides one of the best descriptions of liquid�water�for the available fixed-point charge models. Alkane site/water oxygen Lennard-Jones cross�interactionswere optimized to reproduce the experimental alkane hydration�free energies�over a range of temperatures. The optimized model reproduces the hydration�free energies�of the fitted alkanes with a root mean square difference between simulation and�experiment�of 0.06 kcal/mol over a wide temperature range, compared to 0.44 kcal/mol for the parent model. The optimized model accurately reproduces the temperature dependence of�hydrophobic�hydration, as characterized by the hydration�enthalpies,�entropies,�and�heat capacities,�as well as the pressure response, as characterized by partial molar volumes.\"\t\"Ashbaugh, H. S.; Liu, L. X.; Surampudi, L. N., Optimization of linear and branched alkane interactions with water to simulate hydrophobic hydration.�Journal of Chemical Physics�2011,�135�(5), 7\"\tpaper-4\thttp://lalitsurampudi.github.io/files/paper4.pdf\r",
      "\r\n",
      "7/15/05\tThe determining role of scratch indenter radius on surface deformation of high density polyethylene and calcium carbonate-reinforced composite\tMaterials Science and Engineering: A�\t\"We have used�microscopy techniques�to examine mechanically induced�surface damage�during microscratching of high density�polyethylene�and calcium carbonate-reinforced composite. The radius of stylus has a dominant effect on surface deformation, which can be predicted from the characteristics of�surface morphologyand the scratch deformation parameters. However, the resistance to scratch deformation is not linearly related to radius but depends on the geometry of the stylus. The surface deformation behavior is discussed in terms of physical (crystallinity, spherulite size) and mechanical properties (elastic modulus, elastic recovery, toughness, and scratch hardness).\"\t\"Surampudi, N. L.; Pesacreta, T. C.; Misra, R. D. K., The determining role of scratch indenter radius on surface deformation of high density polyethylene and calcium carbonate-reinforced composite.�Materials Science and Engineering a-Structural Materials Properties Microstructure and Processing�2007,�456�(1-2), 218-229.\"\tpaper-5\thttp://lalitsurampudi.github.io/files/paper5.pdf\r",
      "\r\n",
      "7/15/05\tOn scratch deformation of glass fiber reinforced nylon 66\tMaterials Science and Engineering: A\t\"The scratch deformation of�glass fiber�reinforced nylon 66 exhibits a striking dependence on applied load. The scratch morphology at lower loads is characterized by plastic flow that involves voiding and fibrillation that transforms at higher loads into�brittle fracture�of glass fibers and detachment from the matrix. Voids, fibrillation, and mechanically induced surface roughness are source of light scattering that consequently produce stress-whitened surface. The degree of scratch damage is directly related to�scratch hardness.\"\t\"Surampudi, N. L.; Ramisetti, N. K.; Misra, R. D. K., On scratch deformation of glass fiber reinforced nylon 66.�Materials Science and Engineering a-Structural Materials Properties Microstructure and Processing�2007,�456�(1-2), 230-235\"\tpaper-6\thttp://lalitsurampudi.github.io/files/paper6.pdf"
     ]
    }
   ],
   "source": [
    "!cat publications.tsv"
   ]
  },
  {
   "cell_type": "markdown",
   "metadata": {},
   "source": [
    "## Import pandas\n",
    "\n",
    "We are using the very handy pandas library for dataframes."
   ]
  },
  {
   "cell_type": "code",
   "execution_count": 26,
   "metadata": {
    "collapsed": true,
    "deletable": true,
    "editable": true
   },
   "outputs": [],
   "source": [
    "import pandas as pd"
   ]
  },
  {
   "cell_type": "markdown",
   "metadata": {},
   "source": [
    "## Import TSV\n",
    "\n",
    "Pandas makes this easy with the read_csv function. We are using a TSV, so we specify the separator as a tab, or `\\t`.\n",
    "\n",
    "I found it important to put this data in a tab-separated values format, because there are a lot of commas in this kind of data and comma-separated values can get messed up. However, you can modify the import statement, as pandas also has read_excel(), read_json(), and others."
   ]
  },
  {
   "cell_type": "code",
   "execution_count": 27,
   "metadata": {
    "collapsed": false,
    "deletable": true,
    "editable": true
   },
   "outputs": [
    {
     "data": {
      "text/html": [
       "<div>\n",
       "<style scoped>\n",
       "    .dataframe tbody tr th:only-of-type {\n",
       "        vertical-align: middle;\n",
       "    }\n",
       "\n",
       "    .dataframe tbody tr th {\n",
       "        vertical-align: top;\n",
       "    }\n",
       "\n",
       "    .dataframe thead th {\n",
       "        text-align: right;\n",
       "    }\n",
       "</style>\n",
       "<table border=\"1\" class=\"dataframe\">\n",
       "  <thead>\n",
       "    <tr style=\"text-align: right;\">\n",
       "      <th></th>\n",
       "      <th>pub_date</th>\n",
       "      <th>title</th>\n",
       "      <th>venue</th>\n",
       "      <th>excerpt</th>\n",
       "      <th>citation</th>\n",
       "      <th>url_slug</th>\n",
       "      <th>paper_url</th>\n",
       "    </tr>\n",
       "  </thead>\n",
       "  <tbody>\n",
       "    <tr>\n",
       "      <th>0</th>\n",
       "      <td>5/1/15</td>\n",
       "      <td>Temperature and pressure dependence of methane...</td>\n",
       "      <td>The Journal of Physical Chemistry B</td>\n",
       "      <td>We report methaneÕs osmotic virial coefficient...</td>\n",
       "      <td>Ashbaugh, H. S., Weiss, K., Meng, B., Surampud...</td>\n",
       "      <td>paper-1</td>\n",
       "      <td>http://lalitsurampudi.github.io/files/paper1.pdf</td>\n",
       "    </tr>\n",
       "    <tr>\n",
       "      <th>1</th>\n",
       "      <td>6/9/14</td>\n",
       "      <td>Direct evaluation of polypeptide partial molar...</td>\n",
       "      <td>Journal of Chemical &amp; Engineering Data</td>\n",
       "      <td>Molecular simulations of a series of tri- and ...</td>\n",
       "      <td>Surampudi, L. N.; Ashbaugh, H. S., Direct Eval...</td>\n",
       "      <td>paper-2</td>\n",
       "      <td>http://lalitsurampudi.github.io/files/paper2.pdf</td>\n",
       "    </tr>\n",
       "    <tr>\n",
       "      <th>2</th>\n",
       "      <td>12/5/08</td>\n",
       "      <td>Numerical validation of ift in the analysis of...</td>\n",
       "      <td>Langmuir</td>\n",
       "      <td>The use of the indirect Fourier transform meth...</td>\n",
       "      <td>Franklin, J. M.; Surampudi, L. N.; Ashbaugh, H...</td>\n",
       "      <td>paper-3</td>\n",
       "      <td>http://lalitsurampudi.github.io/files/paper3.pdf</td>\n",
       "    </tr>\n",
       "    <tr>\n",
       "      <th>3</th>\n",
       "      <td>11/3/08</td>\n",
       "      <td>Optimization of linear and branched alkane int...</td>\n",
       "      <td>The Journal of Chemical Physics</td>\n",
       "      <td>Previous studies of simple gas hydration have ...</td>\n",
       "      <td>Ashbaugh, H. S.; Liu, L. X.; Surampudi, L. N.,...</td>\n",
       "      <td>paper-4</td>\n",
       "      <td>http://lalitsurampudi.github.io/files/paper4.pdf</td>\n",
       "    </tr>\n",
       "    <tr>\n",
       "      <th>4</th>\n",
       "      <td>7/15/05</td>\n",
       "      <td>The determining role of scratch indenter radiu...</td>\n",
       "      <td>Materials Science and Engineering: AÊ</td>\n",
       "      <td>We have usedÊmicroscopy techniquesÊto examine ...</td>\n",
       "      <td>Surampudi, N. L.; Pesacreta, T. C.; Misra, R. ...</td>\n",
       "      <td>paper-5</td>\n",
       "      <td>http://lalitsurampudi.github.io/files/paper5.pdf</td>\n",
       "    </tr>\n",
       "    <tr>\n",
       "      <th>5</th>\n",
       "      <td>7/15/05</td>\n",
       "      <td>On scratch deformation of glass fiber reinforc...</td>\n",
       "      <td>Materials Science and Engineering: A</td>\n",
       "      <td>The scratch deformation ofÊglass fiberÊreinfor...</td>\n",
       "      <td>Surampudi, N. L.; Ramisetti, N. K.; Misra, R. ...</td>\n",
       "      <td>paper-6</td>\n",
       "      <td>http://lalitsurampudi.github.io/files/paper6.pdf</td>\n",
       "    </tr>\n",
       "  </tbody>\n",
       "</table>\n",
       "</div>"
      ],
      "text/plain": [
       "  pub_date                                              title  \\\n",
       "0   5/1/15  Temperature and pressure dependence of methane...   \n",
       "1   6/9/14  Direct evaluation of polypeptide partial molar...   \n",
       "2  12/5/08  Numerical validation of ift in the analysis of...   \n",
       "3  11/3/08  Optimization of linear and branched alkane int...   \n",
       "4  7/15/05  The determining role of scratch indenter radiu...   \n",
       "5  7/15/05  On scratch deformation of glass fiber reinforc...   \n",
       "\n",
       "                                    venue  \\\n",
       "0     The Journal of Physical Chemistry B   \n",
       "1  Journal of Chemical & Engineering Data   \n",
       "2                                Langmuir   \n",
       "3         The Journal of Chemical Physics   \n",
       "4   Materials Science and Engineering: AÊ   \n",
       "5    Materials Science and Engineering: A   \n",
       "\n",
       "                                             excerpt  \\\n",
       "0  We report methaneÕs osmotic virial coefficient...   \n",
       "1  Molecular simulations of a series of tri- and ...   \n",
       "2  The use of the indirect Fourier transform meth...   \n",
       "3  Previous studies of simple gas hydration have ...   \n",
       "4  We have usedÊmicroscopy techniquesÊto examine ...   \n",
       "5  The scratch deformation ofÊglass fiberÊreinfor...   \n",
       "\n",
       "                                            citation url_slug  \\\n",
       "0  Ashbaugh, H. S., Weiss, K., Meng, B., Surampud...  paper-1   \n",
       "1  Surampudi, L. N.; Ashbaugh, H. S., Direct Eval...  paper-2   \n",
       "2  Franklin, J. M.; Surampudi, L. N.; Ashbaugh, H...  paper-3   \n",
       "3  Ashbaugh, H. S.; Liu, L. X.; Surampudi, L. N.,...  paper-4   \n",
       "4  Surampudi, N. L.; Pesacreta, T. C.; Misra, R. ...  paper-5   \n",
       "5  Surampudi, N. L.; Ramisetti, N. K.; Misra, R. ...  paper-6   \n",
       "\n",
       "                                          paper_url  \n",
       "0  http://lalitsurampudi.github.io/files/paper1.pdf  \n",
       "1  http://lalitsurampudi.github.io/files/paper2.pdf  \n",
       "2  http://lalitsurampudi.github.io/files/paper3.pdf  \n",
       "3  http://lalitsurampudi.github.io/files/paper4.pdf  \n",
       "4  http://lalitsurampudi.github.io/files/paper5.pdf  \n",
       "5  http://lalitsurampudi.github.io/files/paper6.pdf  "
      ]
     },
     "execution_count": 27,
     "metadata": {},
     "output_type": "execute_result"
    }
   ],
   "source": [
    "publications = pd.read_csv(\"publications.tsv\", sep=\"\\t\", header=0, encoding='latin-1')\n",
    "publications"
   ]
  },
  {
   "cell_type": "markdown",
   "metadata": {},
   "source": [
    "## Escape special characters\n",
    "\n",
    "YAML is very picky about how it takes a valid string, so we are replacing single and double quotes (and ampersands) with their HTML encoded equivilents. This makes them look not so readable in raw format, but they are parsed and rendered nicely."
   ]
  },
  {
   "cell_type": "code",
   "execution_count": 28,
   "metadata": {
    "collapsed": true,
    "deletable": true,
    "editable": true
   },
   "outputs": [],
   "source": [
    "html_escape_table = {\n",
    "    \"&\": \"&amp;\",\n",
    "    '\"': \"&quot;\",\n",
    "    \"'\": \"&apos;\"\n",
    "    }\n",
    "\n",
    "def html_escape(text):\n",
    "    \"\"\"Produce entities within text.\"\"\"\n",
    "    return \"\".join(html_escape_table.get(c,c) for c in text)"
   ]
  },
  {
   "cell_type": "markdown",
   "metadata": {},
   "source": [
    "## Creating the markdown files\n",
    "\n",
    "This is where the heavy lifting is done. This loops through all the rows in the TSV dataframe, then starts to concatentate a big string (```md```) that contains the markdown for each type. It does the YAML metadata first, then does the description for the individual page."
   ]
  },
  {
   "cell_type": "code",
   "execution_count": 29,
   "metadata": {
    "collapsed": false,
    "deletable": true,
    "editable": true
   },
   "outputs": [],
   "source": [
    "import os\n",
    "for row, item in publications.iterrows():\n",
    "    \n",
    "    md_filename = str(item.pub_date) + \"-\" + item.url_slug + \".md\"\n",
    "    html_filename = str(item.pub_date) + \"-\" + item.url_slug\n",
    "    year = item.pub_date[:4]\n",
    "    \n",
    "    ## YAML variables\n",
    "    \n",
    "    md = \"---\\ntitle: \\\"\"   + item.title + '\"\\n'\n",
    "    \n",
    "    md += \"\"\"collection: publications\"\"\"\n",
    "    \n",
    "    md += \"\"\"\\npermalink: /publication/\"\"\" + html_filename\n",
    "    \n",
    "    if len(str(item.excerpt)) > 5:\n",
    "        md += \"\\nexcerpt: '\" + html_escape(item.excerpt) + \"'\"\n",
    "    \n",
    "    md += \"\\ndate: \" + str(item.pub_date) \n",
    "    \n",
    "    md += \"\\nvenue: '\" + html_escape(item.venue) + \"'\"\n",
    "    \n",
    "    if len(str(item.paper_url)) > 5:\n",
    "        md += \"\\npaperurl: '\" + item.paper_url + \"'\"\n",
    "    \n",
    "    md += \"\\ncitation: '\" + html_escape(item.citation) + \"'\"\n",
    "    \n",
    "    md += \"\\n---\"\n",
    "    \n",
    "    ## Markdown description for individual page\n",
    "        \n",
    "    if len(str(item.excerpt)) > 5:\n",
    "        md += \"\\n\" + html_escape(item.excerpt) + \"\\n\"\n",
    "    \n",
    "    if len(str(item.paper_url)) > 5:\n",
    "        md += \"\\n[Download paper here](\" + item.paper_url + \")\\n\" \n",
    "        \n",
    "    md += \"\\nRecommended citation: \" + item.citation\n",
    "    \n",
    "    md_filename = os.path.basename(md_filename)\n",
    "       \n",
    "    with open(\"../_publications/\" + md_filename, 'w') as f:\n",
    "        f.write(md)"
   ]
  },
  {
   "cell_type": "markdown",
   "metadata": {},
   "source": [
    "These files are in the publications directory, one directory below where we're working from."
   ]
  },
  {
   "cell_type": "code",
   "execution_count": 30,
   "metadata": {
    "collapsed": false,
    "deletable": true,
    "editable": true
   },
   "outputs": [
    {
     "name": "stdout",
     "output_type": "stream",
     "text": [
      "05-paper-5.md 08-paper-3.md 14-paper-2.md\r\n",
      "05-paper-6.md 08-paper-4.md 15-paper-1.md\r\n"
     ]
    }
   ],
   "source": [
    "!ls ../_publications/"
   ]
  },
  {
   "cell_type": "code",
   "execution_count": 31,
   "metadata": {
    "collapsed": false,
    "deletable": true,
    "editable": true
   },
   "outputs": [
    {
     "name": "stdout",
     "output_type": "stream",
     "text": [
      "---\r\n",
      "title: \"Temperature and pressure dependence of methane correlations and osmotic second virial coefficients in water\"\r\n",
      "collection: publications\r\n",
      "permalink: /publication/5/1/15-paper-1\r\n",
      "excerpt: 'We report methaneÕs osmotic virial coefficient over the temperatures 275 to 370 K and pressures from 1 bar up to 5000 bar evaluated using molecular simulations of a united-atom description of methane in TIP4P/2005 water. In the first half of this work, we describe an approach for calculating the water-mediated contribution to the methaneÐmethane potential-of-mean force over all separations down to complete overlap. The enthalpic, entropic, heat capacity, volumetric, compressibility, and thermal expansivity contributions to the water-mediated interaction free energy are subsequently extracted from these simulations by fitting to a thermodynamic expansion over all the simulated state points. In the second half of this work, methaneÕs correlation functions are used to evaluate its osmotic second virial coefficient in the temperatureÐpressure plane. The virial coefficients evaluated from the McMillanÐMayer correlation function integral are shown to be in excellent agreement with those determined from the concentration dependence of methaneÕs excess chemical potential, providing an independent thermodynamic consistency check on the accuracy of the procedures used here. At atmospheric pressure the osmotic virial coefficient decreases with increasing temperature, indicative of increasing hydrophobic interactions. At low temperature, the virial coefficient decreases with increasing pressure while at high temperature the virial coefficient increases with increasing pressure, reflecting the underlying hyperbolic dependence of the virial coefficient on temperature and pressure. The transition between a decreasing to increasing pressure response of the osmotic virial coefficient is shown to follow the response of the methaneÐmethane contact peak to changes in pressure as a function of temperature, though a universal correlation is not observed.'\r\n",
      "date: 5/1/15\r\n",
      "venue: 'The Journal of Physical Chemistry B'\r\n",
      "paperurl: 'http://lalitsurampudi.github.io/files/paper1.pdf'\r\n",
      "citation: 'Ashbaugh, H. S., Weiss, K., Meng, B., Surampudi, L. N., Temperature and Pressure Dependence of Methane Correlations and Osmotic Second Virial Coefficients in Water. Journal of Physical Chemistry 2015, 119Ê(20), 6280Ð6294.'\r\n",
      "---\r\n",
      "We report methaneÕs osmotic virial coefficient over the temperatures 275 to 370 K and pressures from 1 bar up to 5000 bar evaluated using molecular simulations of a united-atom description of methane in TIP4P/2005 water. In the first half of this work, we describe an approach for calculating the water-mediated contribution to the methaneÐmethane potential-of-mean force over all separations down to complete overlap. The enthalpic, entropic, heat capacity, volumetric, compressibility, and thermal expansivity contributions to the water-mediated interaction free energy are subsequently extracted from these simulations by fitting to a thermodynamic expansion over all the simulated state points. In the second half of this work, methaneÕs correlation functions are used to evaluate its osmotic second virial coefficient in the temperatureÐpressure plane. The virial coefficients evaluated from the McMillanÐMayer correlation function integral are shown to be in excellent agreement with those determined from the concentration dependence of methaneÕs excess chemical potential, providing an independent thermodynamic consistency check on the accuracy of the procedures used here. At atmospheric pressure the osmotic virial coefficient decreases with increasing temperature, indicative of increasing hydrophobic interactions. At low temperature, the virial coefficient decreases with increasing pressure while at high temperature the virial coefficient increases with increasing pressure, reflecting the underlying hyperbolic dependence of the virial coefficient on temperature and pressure. The transition between a decreasing to increasing pressure response of the osmotic virial coefficient is shown to follow the response of the methaneÐmethane contact peak to changes in pressure as a function of temperature, though a universal correlation is not observed.\r\n",
      "\r\n",
      "[Download paper here](http://lalitsurampudi.github.io/files/paper1.pdf)\r\n",
      "\r\n",
      "Recommended citation: Ashbaugh, H. S., Weiss, K., Meng, B., Surampudi, L. N., Temperature and Pressure Dependence of Methane Correlations and Osmotic Second Virial Coefficients in Water. Journal of Physical Chemistry 2015, 119Ê(20), 6280Ð6294."
     ]
    }
   ],
   "source": [
    "!cat ../_publications/15-paper-1.md"
   ]
  },
  {
   "cell_type": "code",
   "execution_count": null,
   "metadata": {
    "collapsed": true,
    "deletable": true,
    "editable": true
   },
   "outputs": [],
   "source": []
  },
  {
   "cell_type": "code",
   "execution_count": null,
   "metadata": {},
   "outputs": [],
   "source": []
  }
 ],
 "metadata": {
  "kernelspec": {
   "display_name": "Python3.6",
   "language": "python",
   "name": "python3"
  },
  "language_info": {
   "codemirror_mode": {
    "name": "ipython",
    "version": 3
   },
   "file_extension": ".py",
   "mimetype": "text/x-python",
   "name": "python",
   "nbconvert_exporter": "python",
   "pygments_lexer": "ipython3",
   "version": "3.6.6"
  }
 },
 "nbformat": 4,
 "nbformat_minor": 2
}
