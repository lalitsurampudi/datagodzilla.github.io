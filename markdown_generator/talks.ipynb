{
 "cells": [
  {
   "cell_type": "markdown",
   "metadata": {
    "deletable": true,
    "editable": true
   },
   "source": [
    "# Talks markdown generator for academicpages\n",
    "\n",
    "Takes a TSV of talks with metadata and converts them for use with [academicpages.github.io](academicpages.github.io). This is an interactive Jupyter notebook ([see more info here](http://jupyter-notebook-beginner-guide.readthedocs.io/en/latest/what_is_jupyter.html)). The core python code is also in `talks.py`. Run either from the `markdown_generator` folder after replacing `talks.tsv` with one containing your data.\n",
    "\n",
    "TODO: Make this work with BibTex and other databases, rather than Stuart's non-standard TSV format and citation style."
   ]
  },
  {
   "cell_type": "code",
   "execution_count": 11,
   "metadata": {
    "collapsed": false,
    "deletable": true,
    "editable": true
   },
   "outputs": [],
   "source": [
    "import pandas as pd\n",
    "import os"
   ]
  },
  {
   "cell_type": "markdown",
   "metadata": {},
   "source": [
    "## Data format\n",
    "\n",
    "The TSV needs to have the following columns: title, type, url_slug, venue, date, location, talk_url, description, with a header at the top. Many of these fields can be blank, but the columns must be in the TSV.\n",
    "\n",
    "- Fields that cannot be blank: `title`, `url_slug`, `date`. All else can be blank. `type` defaults to \"Talk\" \n",
    "- `date` must be formatted as YYYY-MM-DD.\n",
    "- `url_slug` will be the descriptive part of the .md file and the permalink URL for the page about the paper. \n",
    "    - The .md file will be `YYYY-MM-DD-[url_slug].md` and the permalink will be `https://[yourdomain]/talks/YYYY-MM-DD-[url_slug]`\n",
    "    - The combination of `url_slug` and `date` must be unique, as it will be the basis for your filenames\n",
    "\n",
    "This is how the raw file looks (it doesn't look pretty, use a spreadsheet or other program to edit and create)."
   ]
  },
  {
   "cell_type": "code",
   "execution_count": 12,
   "metadata": {
    "collapsed": false
   },
   "outputs": [
    {
     "name": "stdout",
     "output_type": "stream",
     "text": [
      "title\ttype\turl_slug\tvenue\tdate\tlocation\ttalk_url\tdescription\r",
      "\r\n",
      "Conference Proceeding talk at AIChE 2014 Annual Meeting\tTalk\ttalk-1\t14 AIChE Annual Meeting\t2014-11-17\t\"Atlanta, GA\"\thttps://aiche.confex.com/aiche/2014/webprogram/Paper375679.html\tDirect Evaluation of Polypeptide Partial Molar Volumes in Water Using Molecular Dynamics Simulations\r",
      "\r\n",
      "Conference Proceeding talk at AIChE 2014 Annual Meeting\tTalk\ttalk-2\t13 AIChE Annual Meeting\t2013-11-07\t\"San Francisco, CA\"\thttps://aiche.confex.com/aiche/2013/webprogram/Paper315496.html\tMolecular Dynamics Simulations of Polymer-Surfactant Interactions� at the 2013 AIChE Annual meeting\r",
      "\r\n",
      "Conference Proceeding talk at 245th ACS National Meeting\tTalk\ttalk-3\t245th ACS National Meeting\t2013-04-10\t\"New Orleans, LA\"\thttp://acselb-529643017.us-west-2.elb.amazonaws.com/chem/245nm/program/view.php?obj_id=186147&terms=\tHydrophobic interactions between sodium dodecyl sulfate surfactants and polyethylene oxide (PEO) and polyvinyl pyrrollidone (PVP) studied by molecular dynamics simulations\r",
      "\r\n",
      "Conference Proceeding talk at 136th TMS Annual Meeting\tTalk\ttalk-4\t136th TMS Annual Meeting and Exhibition\t2007-02-28\t\"Orlando, FL\"\thttps://www.tms.org/Meetings/Annual-07/PDFs/AM07_Wednesday.pdf\tSurface deformation during scratching of mineral reinforced polymer nanocomposites\r",
      "\r\n",
      "Conference Proceeding talk at 7th Louisiana Materials and Emerging Technologies Conference\tTalk\ttalk-5\t7th Louisiana Materials and Emerging Technologies Conference \t2006-10-25\t\"Baton Rouge, LA\"\t\tThe effect of stylus radius on scratch deformation of polyethylene and calcium carbonate reinforced composites\r",
      "\r\n",
      "Conference Proceeding talk at 2004 ChemCon conference\tTalk\ttalk-6\t2004 ChemConference\t2004-11-23\t\"Mumbai, India\"\t\tApplication of Bio-oxidation in the control of VOC/HAP emission and hazardous polluting agents"
     ]
    }
   ],
   "source": [
    "!cat talks.tsv"
   ]
  },
  {
   "cell_type": "markdown",
   "metadata": {},
   "source": [
    "## Import TSV\n",
    "\n",
    "Pandas makes this easy with the read_csv function. We are using a TSV, so we specify the separator as a tab, or `\\t`.\n",
    "\n",
    "I found it important to put this data in a tab-separated values format, because there are a lot of commas in this kind of data and comma-separated values can get messed up. However, you can modify the import statement, as pandas also has read_excel(), read_json(), and others."
   ]
  },
  {
   "cell_type": "code",
   "execution_count": 13,
   "metadata": {
    "collapsed": false,
    "deletable": true,
    "editable": true
   },
   "outputs": [
    {
     "data": {
      "text/html": [
       "<div>\n",
       "<style scoped>\n",
       "    .dataframe tbody tr th:only-of-type {\n",
       "        vertical-align: middle;\n",
       "    }\n",
       "\n",
       "    .dataframe tbody tr th {\n",
       "        vertical-align: top;\n",
       "    }\n",
       "\n",
       "    .dataframe thead th {\n",
       "        text-align: right;\n",
       "    }\n",
       "</style>\n",
       "<table border=\"1\" class=\"dataframe\">\n",
       "  <thead>\n",
       "    <tr style=\"text-align: right;\">\n",
       "      <th></th>\n",
       "      <th>title</th>\n",
       "      <th>type</th>\n",
       "      <th>url_slug</th>\n",
       "      <th>venue</th>\n",
       "      <th>date</th>\n",
       "      <th>location</th>\n",
       "      <th>talk_url</th>\n",
       "      <th>description</th>\n",
       "    </tr>\n",
       "  </thead>\n",
       "  <tbody>\n",
       "    <tr>\n",
       "      <th>0</th>\n",
       "      <td>Conference Proceeding talk at AIChE 2014 Annua...</td>\n",
       "      <td>Talk</td>\n",
       "      <td>talk-1</td>\n",
       "      <td>14 AIChE Annual Meeting</td>\n",
       "      <td>2014-11-17</td>\n",
       "      <td>Atlanta, GA</td>\n",
       "      <td>https://aiche.confex.com/aiche/2014/webprogram...</td>\n",
       "      <td>Direct Evaluation of Polypeptide Partial Molar...</td>\n",
       "    </tr>\n",
       "    <tr>\n",
       "      <th>1</th>\n",
       "      <td>Conference Proceeding talk at AIChE 2014 Annua...</td>\n",
       "      <td>Talk</td>\n",
       "      <td>talk-2</td>\n",
       "      <td>13 AIChE Annual Meeting</td>\n",
       "      <td>2013-11-07</td>\n",
       "      <td>San Francisco, CA</td>\n",
       "      <td>https://aiche.confex.com/aiche/2013/webprogram...</td>\n",
       "      <td>Molecular Dynamics Simulations of Polymer-Surf...</td>\n",
       "    </tr>\n",
       "    <tr>\n",
       "      <th>2</th>\n",
       "      <td>Conference Proceeding talk at 245th ACS Nation...</td>\n",
       "      <td>Talk</td>\n",
       "      <td>talk-3</td>\n",
       "      <td>245th ACS National Meeting</td>\n",
       "      <td>2013-04-10</td>\n",
       "      <td>New Orleans, LA</td>\n",
       "      <td>http://acselb-529643017.us-west-2.elb.amazonaw...</td>\n",
       "      <td>Hydrophobic interactions between sodium dodecy...</td>\n",
       "    </tr>\n",
       "    <tr>\n",
       "      <th>3</th>\n",
       "      <td>Conference Proceeding talk at 136th TMS Annual...</td>\n",
       "      <td>Talk</td>\n",
       "      <td>talk-4</td>\n",
       "      <td>136th TMS Annual Meeting and Exhibition</td>\n",
       "      <td>2007-02-28</td>\n",
       "      <td>Orlando, FL</td>\n",
       "      <td>https://www.tms.org/Meetings/Annual-07/PDFs/AM...</td>\n",
       "      <td>Surface deformation during scratching of miner...</td>\n",
       "    </tr>\n",
       "    <tr>\n",
       "      <th>4</th>\n",
       "      <td>Conference Proceeding talk at 7th Louisiana Ma...</td>\n",
       "      <td>Talk</td>\n",
       "      <td>talk-5</td>\n",
       "      <td>7th Louisiana Materials and Emerging Technolog...</td>\n",
       "      <td>2006-10-25</td>\n",
       "      <td>Baton Rouge, LA</td>\n",
       "      <td>NaN</td>\n",
       "      <td>The effect of stylus radius on scratch deforma...</td>\n",
       "    </tr>\n",
       "    <tr>\n",
       "      <th>5</th>\n",
       "      <td>Conference Proceeding talk at 2004 ChemCon con...</td>\n",
       "      <td>Talk</td>\n",
       "      <td>talk-6</td>\n",
       "      <td>2004 ChemConference</td>\n",
       "      <td>2004-11-23</td>\n",
       "      <td>Mumbai, India</td>\n",
       "      <td>NaN</td>\n",
       "      <td>Application of Bio-oxidation in the control of...</td>\n",
       "    </tr>\n",
       "  </tbody>\n",
       "</table>\n",
       "</div>"
      ],
      "text/plain": [
       "                                               title  type url_slug  \\\n",
       "0  Conference Proceeding talk at AIChE 2014 Annua...  Talk   talk-1   \n",
       "1  Conference Proceeding talk at AIChE 2014 Annua...  Talk   talk-2   \n",
       "2  Conference Proceeding talk at 245th ACS Nation...  Talk   talk-3   \n",
       "3  Conference Proceeding talk at 136th TMS Annual...  Talk   talk-4   \n",
       "4  Conference Proceeding talk at 7th Louisiana Ma...  Talk   talk-5   \n",
       "5  Conference Proceeding talk at 2004 ChemCon con...  Talk   talk-6   \n",
       "\n",
       "                                               venue        date  \\\n",
       "0                            14 AIChE Annual Meeting  2014-11-17   \n",
       "1                            13 AIChE Annual Meeting  2013-11-07   \n",
       "2                         245th ACS National Meeting  2013-04-10   \n",
       "3            136th TMS Annual Meeting and Exhibition  2007-02-28   \n",
       "4  7th Louisiana Materials and Emerging Technolog...  2006-10-25   \n",
       "5                                2004 ChemConference  2004-11-23   \n",
       "\n",
       "            location                                           talk_url  \\\n",
       "0        Atlanta, GA  https://aiche.confex.com/aiche/2014/webprogram...   \n",
       "1  San Francisco, CA  https://aiche.confex.com/aiche/2013/webprogram...   \n",
       "2    New Orleans, LA  http://acselb-529643017.us-west-2.elb.amazonaw...   \n",
       "3        Orlando, FL  https://www.tms.org/Meetings/Annual-07/PDFs/AM...   \n",
       "4    Baton Rouge, LA                                                NaN   \n",
       "5      Mumbai, India                                                NaN   \n",
       "\n",
       "                                         description  \n",
       "0  Direct Evaluation of Polypeptide Partial Molar...  \n",
       "1  Molecular Dynamics Simulations of Polymer-Surf...  \n",
       "2  Hydrophobic interactions between sodium dodecy...  \n",
       "3  Surface deformation during scratching of miner...  \n",
       "4  The effect of stylus radius on scratch deforma...  \n",
       "5  Application of Bio-oxidation in the control of...  "
      ]
     },
     "execution_count": 13,
     "metadata": {},
     "output_type": "execute_result"
    }
   ],
   "source": [
    "talks = pd.read_csv(\"talks.tsv\", sep=\"\\t\", header=0, encoding='latin-1')\n",
    "talks"
   ]
  },
  {
   "cell_type": "markdown",
   "metadata": {},
   "source": [
    "## Escape special characters\n",
    "\n",
    "YAML is very picky about how it takes a valid string, so we are replacing single and double quotes (and ampersands) with their HTML encoded equivilents. This makes them look not so readable in raw format, but they are parsed and rendered nicely."
   ]
  },
  {
   "cell_type": "code",
   "execution_count": 14,
   "metadata": {
    "collapsed": false,
    "deletable": true,
    "editable": true
   },
   "outputs": [],
   "source": [
    "html_escape_table = {\n",
    "    \"&\": \"&amp;\",\n",
    "    '\"': \"&quot;\",\n",
    "    \"'\": \"&apos;\"\n",
    "    }\n",
    "\n",
    "def html_escape(text):\n",
    "    if type(text) is str:\n",
    "        return \"\".join(html_escape_table.get(c,c) for c in text)\n",
    "    else:\n",
    "        return \"False\""
   ]
  },
  {
   "cell_type": "markdown",
   "metadata": {},
   "source": [
    "## Creating the markdown files\n",
    "\n",
    "This is where the heavy lifting is done. This loops through all the rows in the TSV dataframe, then starts to concatentate a big string (```md```) that contains the markdown for each type. It does the YAML metadata first, then does the description for the individual page."
   ]
  },
  {
   "cell_type": "code",
   "execution_count": 15,
   "metadata": {
    "collapsed": false,
    "deletable": true,
    "editable": true
   },
   "outputs": [],
   "source": [
    "loc_dict = {}\n",
    "\n",
    "for row, item in talks.iterrows():\n",
    "    \n",
    "    md_filename = str(item.date) + \"-\" + item.url_slug + \".md\"\n",
    "    html_filename = str(item.date) + \"-\" + item.url_slug \n",
    "    year = item.date[:4]\n",
    "    \n",
    "    md = \"---\\ntitle: \\\"\"   + item.title + '\"\\n'\n",
    "    md += \"collection: talks\" + \"\\n\"\n",
    "    \n",
    "    if len(str(item.type)) > 3:\n",
    "        md += 'type: \"' + item.type + '\"\\n'\n",
    "    else:\n",
    "        md += 'type: \"Talk\"\\n'\n",
    "    \n",
    "    md += \"permalink: /talks/\" + html_filename + \"\\n\"\n",
    "    \n",
    "    if len(str(item.venue)) > 3:\n",
    "        md += 'venue: \"' + item.venue + '\"\\n'\n",
    "        \n",
    "    if len(str(item.location)) > 3:\n",
    "        md += \"date: \" + str(item.date) + \"\\n\"\n",
    "    \n",
    "    if len(str(item.location)) > 3:\n",
    "        md += 'location: \"' + str(item.location) + '\"\\n'\n",
    "           \n",
    "    md += \"---\\n\"\n",
    "    \n",
    "    \n",
    "    if len(str(item.talk_url)) > 3:\n",
    "        md += \"\\n[More information here](\" + item.talk_url + \")\\n\" \n",
    "        \n",
    "    \n",
    "    if len(str(item.description)) > 3:\n",
    "        md += \"\\n\" + html_escape(item.description) + \"\\n\"\n",
    "        \n",
    "        \n",
    "    md_filename = os.path.basename(md_filename)\n",
    "    #print(md)\n",
    "    \n",
    "    with open(\"../_talks/\" + md_filename, 'w') as f:\n",
    "        f.write(md)"
   ]
  },
  {
   "cell_type": "markdown",
   "metadata": {},
   "source": [
    "These files are in the talks directory, one directory below where we're working from."
   ]
  },
  {
   "cell_type": "code",
   "execution_count": 16,
   "metadata": {
    "collapsed": false,
    "deletable": true,
    "editable": true
   },
   "outputs": [
    {
     "name": "stdout",
     "output_type": "stream",
     "text": [
      "2004-11-23-talk-6.md 2007-02-28-talk-4.md 2013-11-07-talk-2.md\r\n",
      "2006-10-25-talk-5.md 2013-04-10-talk-3.md 2014-11-17-talk-1.md\r\n"
     ]
    }
   ],
   "source": [
    "!ls ../_talks"
   ]
  },
  {
   "cell_type": "code",
   "execution_count": 18,
   "metadata": {
    "collapsed": false,
    "deletable": true,
    "editable": true
   },
   "outputs": [
    {
     "name": "stdout",
     "output_type": "stream",
     "text": [
      "---\r\n",
      "title: \"Conference Proceeding talk at 245th ACS National Meeting\"\r\n",
      "collection: talks\r\n",
      "type: \"Talk\"\r\n",
      "permalink: /talks/2013-04-10-talk-3\r\n",
      "venue: \"245th ACS National Meeting\"\r\n",
      "date: 2013-04-10\r\n",
      "location: \"New Orleans, LA\"\r\n",
      "---\r\n",
      "\r\n",
      "[More information here](http://acselb-529643017.us-west-2.elb.amazonaws.com/chem/245nm/program/view.php?obj_id=186147&terms=)\r\n",
      "\r\n",
      "Hydrophobic interactions between sodium dodecyl sulfate surfactants and polyethylene oxide (PEO) and polyvinyl pyrrollidone (PVP) studied by molecular dynamics simulations\r\n"
     ]
    }
   ],
   "source": [
    "!cat ../_talks/2013-04-10-talk-3.md"
   ]
  },
  {
   "cell_type": "code",
   "execution_count": null,
   "metadata": {},
   "outputs": [],
   "source": []
  }
 ],
 "metadata": {
  "kernelspec": {
   "display_name": "Python3.6",
   "language": "python",
   "name": "python3"
  },
  "language_info": {
   "codemirror_mode": {
    "name": "ipython",
    "version": 3
   },
   "file_extension": ".py",
   "mimetype": "text/x-python",
   "name": "python",
   "nbconvert_exporter": "python",
   "pygments_lexer": "ipython3",
   "version": "3.6.6"
  }
 },
 "nbformat": 4,
 "nbformat_minor": 2
}
