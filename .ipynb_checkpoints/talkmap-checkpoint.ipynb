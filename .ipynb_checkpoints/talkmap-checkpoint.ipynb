{
 "cells": [
  {
   "cell_type": "markdown",
   "metadata": {},
   "source": [
    "# Leaflet cluster map of talk locations\n",
    "\n",
    "Run this from the _talks/ directory, which contains .md files of all your talks. This scrapes the location YAML field from each .md file, geolocates it with geopy/Nominatim, and uses the getorg library to output data, HTML, and Javascript for a standalone cluster map."
   ]
  },
  {
   "cell_type": "code",
   "execution_count": 2,
   "metadata": {
    "collapsed": false
   },
   "outputs": [
    {
     "name": "stdout",
     "output_type": "stream",
     "text": [
      "Collecting getorg\r\n",
      "\u001b[33m  Cache entry deserialization failed, entry ignored\u001b[0m\r\n",
      "  Using cached https://files.pythonhosted.org/packages/d8/81/842a17df2892d8f357929a3a937d30f36bd11998b31b75e663515e24bf50/getorg-0.3.1-py2.py3-none-any.whl\r\n",
      "Collecting pygithub (from getorg)\r\n",
      "\u001b[33m  Cache entry deserialization failed, entry ignored\u001b[0m\r\n",
      "  Using cached https://files.pythonhosted.org/packages/40/7a/0006d9bdc4683955d3b7e733797117d918dd3913725f368f268fac3963de/PyGithub-1.43.tar.gz\r\n",
      "Collecting geopy (from getorg)\r\n",
      "\u001b[33m  Cache entry deserialization failed, entry ignored\u001b[0m\r\n",
      "  Using cached https://files.pythonhosted.org/packages/38/55/4f4d10b966d302707f17d7a55a4ea6ece2c574cff1be9bf3debb65ff74b9/geopy-1.16.0-py2.py3-none-any.whl\r\n",
      "Collecting retrying (from getorg)\r\n",
      "\u001b[33m  Cache entry deserialization failed, entry ignored\u001b[0m\r\n",
      "  Using cached https://files.pythonhosted.org/packages/44/ef/beae4b4ef80902f22e3af073397f079c96969c69b2c7d52a57ea9ae61c9d/retrying-1.3.3.tar.gz\r\n",
      "Requirement already satisfied, skipping upgrade: requests>=2.14.0 in /Users/wolverine/anaconda/envs/py36/lib/python3.6/site-packages (from pygithub->getorg) (2.19.1)\r\n",
      "Collecting pyjwt (from pygithub->getorg)\r\n",
      "\u001b[33m  Cache entry deserialization failed, entry ignored\u001b[0m\r\n",
      "  Using cached https://files.pythonhosted.org/packages/93/d1/3378cc8184a6524dc92993090ee8b4c03847c567e298305d6cf86987e005/PyJWT-1.6.4-py2.py3-none-any.whl\r\n",
      "Collecting geographiclib<2,>=1.49 (from geopy->getorg)\r\n",
      "\u001b[33m  Cache entry deserialization failed, entry ignored\u001b[0m\r\n",
      "  Using cached https://files.pythonhosted.org/packages/5b/ac/4f348828091490d77899bc74e92238e2b55c59392f21948f296e94e50e2b/geographiclib-1.49.tar.gz\r\n",
      "Requirement already satisfied, skipping upgrade: six>=1.7.0 in /Users/wolverine/anaconda/envs/py36/lib/python3.6/site-packages (from retrying->getorg) (1.11.0)\r\n",
      "Requirement already satisfied, skipping upgrade: chardet<3.1.0,>=3.0.2 in /Users/wolverine/anaconda/envs/py36/lib/python3.6/site-packages (from requests>=2.14.0->pygithub->getorg) (3.0.4)\r\n",
      "Requirement already satisfied, skipping upgrade: idna<2.8,>=2.5 in /Users/wolverine/anaconda/envs/py36/lib/python3.6/site-packages (from requests>=2.14.0->pygithub->getorg) (2.7)\r\n",
      "Requirement already satisfied, skipping upgrade: urllib3<1.24,>=1.21.1 in /Users/wolverine/anaconda/envs/py36/lib/python3.6/site-packages (from requests>=2.14.0->pygithub->getorg) (1.23)\r\n",
      "Requirement already satisfied, skipping upgrade: certifi>=2017.4.17 in /Users/wolverine/anaconda/envs/py36/lib/python3.6/site-packages (from requests>=2.14.0->pygithub->getorg) (2018.4.16)\r\n",
      "Building wheels for collected packages: pygithub, retrying, geographiclib\r\n",
      "  Running setup.py bdist_wheel for pygithub ... \u001b[?25l-\b \b\\\b \b|\b \b/\b \b-\b \b\\\b \b|\b \b/\b \b-\b \b\\\b \b|\b \b/\b \b-\b \b\\\b \b|\b \b/\b \b-\b \b\\\b \b|\b \b/\b \b-\b \b\\\b \b|\b \b/\b \b-\b \b\\\b \b|\b \b/\b \b-\b \b\\\b \b|\b \bdone\r\n",
      "\u001b[?25h  Stored in directory: /Users/Wolverine/Library/Caches/pip/wheels/45/7b/83/ff014870f635c55eaf7b4ed0ccf0395bd35601d9d97c20b086\r\n",
      "  Running setup.py bdist_wheel for retrying ... \u001b[?25l-\b \b\\\b \bdone\r\n",
      "\u001b[?25h  Stored in directory: /Users/Wolverine/Library/Caches/pip/wheels/d7/a9/33/acc7b709e2a35caa7d4cae442f6fe6fbf2c43f80823d46460c\r\n",
      "  Running setup.py bdist_wheel for geographiclib ... \u001b[?25l-\b \b\\\b \bdone\r\n",
      "\u001b[?25h  Stored in directory: /Users/Wolverine/Library/Caches/pip/wheels/99/45/d1/14954797e2a976083182c2e7da9b4e924509e59b6e5c661061\r\n",
      "Successfully built pygithub retrying geographiclib\r\n",
      "Installing collected packages: pyjwt, pygithub, geographiclib, geopy, retrying, getorg\r\n",
      "Successfully installed geographiclib-1.49 geopy-1.16.0 getorg-0.3.1 pygithub-1.43 pyjwt-1.6.4 retrying-1.3.3\r\n",
      "\u001b[33mCache entry deserialization failed, entry ignored\u001b[0m\r\n",
      "Iywidgets and ipyleaflet support disabled. You must be in a Jupyter notebook to use this feature.\n",
      "Error raised:\n",
      "No module named 'ipywidgets'\n",
      "Check that you have enabled ipyleaflet in Jupyter with:\n",
      "    jupyter nbextension enable --py ipyleaflet\n"
     ]
    }
   ],
   "source": [
    "!pip install getorg --upgrade\n",
    "import glob\n",
    "import getorg\n",
    "from geopy import Nominatim"
   ]
  },
  {
   "cell_type": "code",
   "execution_count": 2,
   "metadata": {
    "collapsed": false
   },
   "outputs": [],
   "source": [
    "g = glob.glob(\"*.md\")"
   ]
  },
  {
   "cell_type": "code",
   "execution_count": 3,
   "metadata": {
    "collapsed": true
   },
   "outputs": [],
   "source": [
    "geocoder = Nominatim()\n",
    "location_dict = {}\n",
    "location = \"\"\n",
    "permalink = \"\"\n",
    "title = \"\""
   ]
  },
  {
   "cell_type": "code",
   "execution_count": 4,
   "metadata": {
    "collapsed": false
   },
   "outputs": [
    {
     "name": "stdout",
     "output_type": "stream",
     "text": [
      "Berkeley CA, USA \n",
      " Berkeley, Alameda County, California, United States of America\n",
      "Los Angeles, CA \n",
      " LA, Los Angeles County, California, United States of America\n",
      "London, UK \n",
      " London, Greater London, England, UK\n",
      "San Francisco, California \n",
      " SF, California, United States of America\n"
     ]
    }
   ],
   "source": [
    "\n",
    "for file in g:\n",
    "    with open(file, 'r') as f:\n",
    "        lines = f.read()\n",
    "        if lines.find('location: \"') > 1:\n",
    "            loc_start = lines.find('location: \"') + 11\n",
    "            lines_trim = lines[loc_start:]\n",
    "            loc_end = lines_trim.find('\"')\n",
    "            location = lines_trim[:loc_end]\n",
    "                            \n",
    "           \n",
    "        location_dict[location] = geocoder.geocode(location)\n",
    "        print(location, \"\\n\", location_dict[location])\n"
   ]
  },
  {
   "cell_type": "code",
   "execution_count": 5,
   "metadata": {
    "collapsed": false
   },
   "outputs": [
    {
     "data": {
      "text/plain": [
       "'Written map to ../talkmap/'"
      ]
     },
     "execution_count": 5,
     "metadata": {},
     "output_type": "execute_result"
    }
   ],
   "source": [
    "m = getorg.orgmap.create_map_obj()\n",
    "getorg.orgmap.output_html_cluster_map(location_dict, folder_name=\"../talkmap\", hashed_usernames=False)"
   ]
  },
  {
   "cell_type": "code",
   "execution_count": null,
   "metadata": {
    "collapsed": true
   },
   "outputs": [],
   "source": []
  }
 ],
 "metadata": {
  "anaconda-cloud": {},
  "kernelspec": {
   "display_name": "Python3.6",
   "language": "python",
   "name": "python3"
  },
  "language_info": {
   "codemirror_mode": {
    "name": "ipython",
    "version": 3
   },
   "file_extension": ".py",
   "mimetype": "text/x-python",
   "name": "python",
   "nbconvert_exporter": "python",
   "pygments_lexer": "ipython3",
   "version": "3.6.6"
  }
 },
 "nbformat": 4,
 "nbformat_minor": 2
}
