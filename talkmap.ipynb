{
 "cells": [
  {
   "cell_type": "markdown",
   "metadata": {},
   "source": [
    "# Leaflet cluster map of talk locations\n",
    "\n",
    "Run this from the _talks/ directory, which contains .md files of all your talks. This scrapes the location YAML field from each .md file, geolocates it with geopy/Nominatim, and uses the getorg library to output data, HTML, and Javascript for a standalone cluster map."
   ]
  },
  {
   "cell_type": "code",
   "execution_count": 1,
   "metadata": {},
   "outputs": [
    {
     "name": "stdout",
     "output_type": "stream",
     "text": [
      "Requirement already satisfied: getorg in /Users/wolverine/anaconda/envs/py36/lib/python3.6/site-packages (0.3.1)\r\n",
      "Requirement already satisfied: python-frontmatter in /Users/wolverine/anaconda/envs/py36/lib/python3.6/site-packages (0.4.2)\r\n",
      "Requirement already satisfied: pygithub in /Users/wolverine/anaconda/envs/py36/lib/python3.6/site-packages (from getorg) (1.43)\r\n",
      "Requirement already satisfied: geopy in /Users/wolverine/anaconda/envs/py36/lib/python3.6/site-packages (from getorg) (1.16.0)\r\n",
      "Requirement already satisfied: retrying in /Users/wolverine/anaconda/envs/py36/lib/python3.6/site-packages (from getorg) (1.3.3)\r\n",
      "Requirement already satisfied: six in /Users/wolverine/anaconda/envs/py36/lib/python3.6/site-packages (from python-frontmatter) (1.11.0)\r\n",
      "Requirement already satisfied: PyYAML in /Users/wolverine/anaconda/envs/py36/lib/python3.6/site-packages (from python-frontmatter) (3.12)\r\n",
      "Requirement already satisfied: requests>=2.14.0 in /Users/wolverine/anaconda/envs/py36/lib/python3.6/site-packages (from pygithub->getorg) (2.19.1)\r\n",
      "Requirement already satisfied: pyjwt in /Users/wolverine/anaconda/envs/py36/lib/python3.6/site-packages (from pygithub->getorg) (1.6.4)\r\n",
      "Requirement already satisfied: geographiclib<2,>=1.49 in /Users/wolverine/anaconda/envs/py36/lib/python3.6/site-packages (from geopy->getorg) (1.49)\r\n",
      "Requirement already satisfied: chardet<3.1.0,>=3.0.2 in /Users/wolverine/anaconda/envs/py36/lib/python3.6/site-packages (from requests>=2.14.0->pygithub->getorg) (3.0.4)\r\n",
      "Requirement already satisfied: idna<2.8,>=2.5 in /Users/wolverine/anaconda/envs/py36/lib/python3.6/site-packages (from requests>=2.14.0->pygithub->getorg) (2.7)\r\n",
      "Requirement already satisfied: urllib3<1.24,>=1.21.1 in /Users/wolverine/anaconda/envs/py36/lib/python3.6/site-packages (from requests>=2.14.0->pygithub->getorg) (1.23)\r\n",
      "Requirement already satisfied: certifi>=2017.4.17 in /Users/wolverine/anaconda/envs/py36/lib/python3.6/site-packages (from requests>=2.14.0->pygithub->getorg) (2018.4.16)\r\n"
     ]
    }
   ],
   "source": [
    "!pip install getorg python-frontmatter"
   ]
  },
  {
   "cell_type": "code",
   "execution_count": 2,
   "metadata": {},
   "outputs": [
    {
     "name": "stdout",
     "output_type": "stream",
     "text": [
      "IPywidgets and ipyleaflet support enabled.\n"
     ]
    }
   ],
   "source": [
    "import glob\n",
    "import getorg\n",
    "from geopy import Nominatim\n",
    "import frontmatter"
   ]
  },
  {
   "cell_type": "code",
   "execution_count": 3,
   "metadata": {
    "collapsed": true
   },
   "outputs": [],
   "source": [
    "g = glob.glob(\"_talks/*.md\")"
   ]
  },
  {
   "cell_type": "code",
   "execution_count": 4,
   "metadata": {
    "collapsed": true
   },
   "outputs": [
    {
     "name": "stderr",
     "output_type": "stream",
     "text": [
      "/Users/wolverine/anaconda/envs/py36/lib/python3.6/site-packages/geopy/geocoders/osm.py:138: UserWarning: Using Nominatim with the default \"geopy/1.16.0\" `user_agent` is strongly discouraged, as it violates Nominatim's ToS https://operations.osmfoundation.org/policies/nominatim/ and may possibly cause 403 and 429 HTTP errors. Please specify a custom `user_agent` with `Nominatim(user_agent=\"my-application\")` or by overriding the default `user_agent`: `geopy.geocoders.options.default_user_agent = \"my-application\"`. In geopy 2.0 this will become an exception.\n",
      "  UserWarning\n"
     ]
    }
   ],
   "source": [
    "geocoder = Nominatim()\n",
    "location_dict = {}\n",
    "location = \"\"\n",
    "permalink = \"\"\n",
    "title = \"\""
   ]
  },
  {
   "cell_type": "code",
   "execution_count": 9,
   "metadata": {},
   "outputs": [
    {
     "data": {
      "text/plain": [
       "{'title': 'Conference Proceeding talk at 7th Louisiana Materials and Emerging Technologies Conference',\n",
       " 'collection': 'talks',\n",
       " 'type': 'Talk',\n",
       " 'permalink': '/talks/2006-10-25-talk-5',\n",
       " 'venue': '7th Louisiana Materials and Emerging Technologies Conference ',\n",
       " 'date': datetime.date(2006, 10, 25),\n",
       " 'location': 'Baton Rouge, LA',\n",
       " 'content': 'The effect of stylus radius on scratch deformation of polyethylene and calcium carbonate reinforced composites'}"
      ]
     },
     "execution_count": 9,
     "metadata": {},
     "output_type": "execute_result"
    }
   ],
   "source": [
    "for file in g:\n",
    "    a = frontmatter.load(file)\n",
    "a.to_dict()"
   ]
  },
  {
   "cell_type": "code",
   "execution_count": 10,
   "metadata": {},
   "outputs": [],
   "source": [
    "for file in g:\n",
    "    data = frontmatter.load(file)\n",
    "    data_dict = data.to_dict()\n",
    "    location = data_dict['location']\n",
    "    if location[-4:] == \", CA\":\n",
    "        location = location[:-3] + \" California\"\n",
    "    \n",
    "    descript_name = location + \" | \" + data_dict['venue'] + \" | \" + data_dict['title']\n",
    "    location_dict[descript_name] = geocoder.geocode(location)\n",
    "    #print(descript_name, \"\\n\", location, \"\\n\", location_dict[location], \"\\n\\n\")"
   ]
  },
  {
   "cell_type": "code",
   "execution_count": 11,
   "metadata": {},
   "outputs": [
    {
     "data": {
      "text/plain": [
       "'Written map to talk_map/'"
      ]
     },
     "execution_count": 11,
     "metadata": {},
     "output_type": "execute_result"
    }
   ],
   "source": [
    "m = getorg.orgmap.create_map_obj()\n",
    "getorg.orgmap.output_html_cluster_map(location_dict, folder_name=\"talk_map\", hashed_usernames=False)"
   ]
  },
  {
   "cell_type": "code",
   "execution_count": null,
   "metadata": {
    "collapsed": true
   },
   "outputs": [],
   "source": []
  }
 ],
 "metadata": {
  "anaconda-cloud": {},
  "kernelspec": {
   "display_name": "Python3.6",
   "language": "python",
   "name": "python3"
  },
  "language_info": {
   "codemirror_mode": {
    "name": "ipython",
    "version": 3
   },
   "file_extension": ".py",
   "mimetype": "text/x-python",
   "name": "python",
   "nbconvert_exporter": "python",
   "pygments_lexer": "ipython3",
   "version": "3.6.6"
  }
 },
 "nbformat": 4,
 "nbformat_minor": 2
}
