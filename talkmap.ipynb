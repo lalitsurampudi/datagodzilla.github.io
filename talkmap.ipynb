{
 "cells": [
  {
   "cell_type": "markdown",
   "metadata": {},
   "source": [
    "# Leaflet cluster map of talk locations\n",
    "\n",
    "Run this from the _talks/ directory, which contains .md files of all your talks. This scrapes the location YAML field from each .md file, geolocates it with geopy/Nominatim, and uses the getorg library to output data, HTML, and Javascript for a standalone cluster map."
   ]
  },
  {
   "cell_type": "code",
   "execution_count": 23,
   "metadata": {},
   "outputs": [
    {
     "name": "stdout",
     "output_type": "stream",
     "text": [
      "Collecting ipyleaflet\r\n",
      "  Using cached https://files.pythonhosted.org/packages/c4/fe/01839b1cdcc4bf8c8424f3f1ddf50f9e4fbee2cb33b52645a4d2be28432c/ipyleaflet-0.9.0-py2.py3-none-any.whl\r\n",
      "Collecting xarray<0.11,>=0.10 (from ipyleaflet)\r\n",
      "  Using cached https://files.pythonhosted.org/packages/46/b9/155c8b4192c43f0830d9f7b52d412962a4ac34effbd12ac08da7db9a4397/xarray-0.10.8-py2.py3-none-any.whl\r\n",
      "Collecting traittypes<3,>=0.2.1 (from ipyleaflet)\r\n",
      "  Using cached https://files.pythonhosted.org/packages/9c/d1/8d5bd662703cc1764d986f6908a608777305946fa634d34c470cd4a1e729/traittypes-0.2.1-py2.py3-none-any.whl\r\n",
      "Requirement already satisfied: ipywidgets<8,>=7.0.0 in /Users/wolverine/anaconda/envs/py36/lib/python3.6/site-packages (from ipyleaflet) (7.4.1)\r\n",
      "Requirement already satisfied: numpy>=1.12 in /Users/wolverine/anaconda/envs/py36/lib/python3.6/site-packages (from xarray<0.11,>=0.10->ipyleaflet) (1.15.0)\r\n",
      "Requirement already satisfied: pandas>=0.19.2 in /Users/wolverine/anaconda/envs/py36/lib/python3.6/site-packages (from xarray<0.11,>=0.10->ipyleaflet) (0.23.4)\r\n",
      "Requirement already satisfied: traitlets>=4.2.2 in /Users/wolverine/anaconda/envs/py36/lib/python3.6/site-packages (from traittypes<3,>=0.2.1->ipyleaflet) (4.3.2)\r\n",
      "Requirement already satisfied: ipykernel>=4.5.1 in /Users/wolverine/anaconda/envs/py36/lib/python3.6/site-packages (from ipywidgets<8,>=7.0.0->ipyleaflet) (4.8.2)\r\n",
      "Requirement already satisfied: nbformat>=4.2.0 in /Users/wolverine/anaconda/envs/py36/lib/python3.6/site-packages (from ipywidgets<8,>=7.0.0->ipyleaflet) (4.4.0)\r\n",
      "Requirement already satisfied: widgetsnbextension~=3.4.0 in /Users/wolverine/anaconda/envs/py36/lib/python3.6/site-packages (from ipywidgets<8,>=7.0.0->ipyleaflet) (3.4.1)\r\n",
      "Requirement already satisfied: ipython>=4.0.0; python_version >= \"3.3\" in /Users/wolverine/anaconda/envs/py36/lib/python3.6/site-packages (from ipywidgets<8,>=7.0.0->ipyleaflet) (6.5.0)\r\n",
      "Requirement already satisfied: pytz>=2011k in /Users/wolverine/anaconda/envs/py36/lib/python3.6/site-packages (from pandas>=0.19.2->xarray<0.11,>=0.10->ipyleaflet) (2018.5)\r\n",
      "Requirement already satisfied: python-dateutil>=2.5.0 in /Users/wolverine/anaconda/envs/py36/lib/python3.6/site-packages (from pandas>=0.19.2->xarray<0.11,>=0.10->ipyleaflet) (2.7.3)\r\n",
      "Requirement already satisfied: decorator in /Users/wolverine/anaconda/envs/py36/lib/python3.6/site-packages (from traitlets>=4.2.2->traittypes<3,>=0.2.1->ipyleaflet) (4.3.0)\r\n",
      "Requirement already satisfied: six in /Users/wolverine/anaconda/envs/py36/lib/python3.6/site-packages (from traitlets>=4.2.2->traittypes<3,>=0.2.1->ipyleaflet) (1.11.0)\r\n",
      "Requirement already satisfied: ipython-genutils in /Users/wolverine/anaconda/envs/py36/lib/python3.6/site-packages (from traitlets>=4.2.2->traittypes<3,>=0.2.1->ipyleaflet) (0.2.0)\r\n",
      "Requirement already satisfied: tornado>=4.0 in /Users/wolverine/anaconda/envs/py36/lib/python3.6/site-packages (from ipykernel>=4.5.1->ipywidgets<8,>=7.0.0->ipyleaflet) (5.1)\r\n",
      "Requirement already satisfied: jupyter-client in /Users/wolverine/anaconda/envs/py36/lib/python3.6/site-packages (from ipykernel>=4.5.1->ipywidgets<8,>=7.0.0->ipyleaflet) (5.2.3)\r\n",
      "Requirement already satisfied: jsonschema!=2.5.0,>=2.4 in /Users/wolverine/anaconda/envs/py36/lib/python3.6/site-packages (from nbformat>=4.2.0->ipywidgets<8,>=7.0.0->ipyleaflet) (2.6.0)\r\n",
      "Requirement already satisfied: jupyter_core in /Users/wolverine/anaconda/envs/py36/lib/python3.6/site-packages (from nbformat>=4.2.0->ipywidgets<8,>=7.0.0->ipyleaflet) (4.4.0)\r\n",
      "Requirement already satisfied: notebook>=4.4.1 in /Users/wolverine/anaconda/envs/py36/lib/python3.6/site-packages (from widgetsnbextension~=3.4.0->ipywidgets<8,>=7.0.0->ipyleaflet) (5.6.0)\r\n",
      "Requirement already satisfied: prompt-toolkit<2.0.0,>=1.0.15 in /Users/wolverine/anaconda/envs/py36/lib/python3.6/site-packages (from ipython>=4.0.0; python_version >= \"3.3\"->ipywidgets<8,>=7.0.0->ipyleaflet) (1.0.15)\r\n",
      "Requirement already satisfied: simplegeneric>0.8 in /Users/wolverine/anaconda/envs/py36/lib/python3.6/site-packages (from ipython>=4.0.0; python_version >= \"3.3\"->ipywidgets<8,>=7.0.0->ipyleaflet) (0.8.1)\r\n",
      "Requirement already satisfied: pygments in /Users/wolverine/anaconda/envs/py36/lib/python3.6/site-packages (from ipython>=4.0.0; python_version >= \"3.3\"->ipywidgets<8,>=7.0.0->ipyleaflet) (2.2.0)\r\n",
      "Requirement already satisfied: pexpect; sys_platform != \"win32\" in /Users/wolverine/anaconda/envs/py36/lib/python3.6/site-packages (from ipython>=4.0.0; python_version >= \"3.3\"->ipywidgets<8,>=7.0.0->ipyleaflet) (4.6.0)\r\n",
      "Requirement already satisfied: pickleshare in /Users/wolverine/anaconda/envs/py36/lib/python3.6/site-packages (from ipython>=4.0.0; python_version >= \"3.3\"->ipywidgets<8,>=7.0.0->ipyleaflet) (0.7.4)\r\n",
      "Requirement already satisfied: appnope; sys_platform == \"darwin\" in /Users/wolverine/anaconda/envs/py36/lib/python3.6/site-packages (from ipython>=4.0.0; python_version >= \"3.3\"->ipywidgets<8,>=7.0.0->ipyleaflet) (0.1.0)\r\n",
      "Requirement already satisfied: backcall in /Users/wolverine/anaconda/envs/py36/lib/python3.6/site-packages (from ipython>=4.0.0; python_version >= \"3.3\"->ipywidgets<8,>=7.0.0->ipyleaflet) (0.1.0)\r\n",
      "Requirement already satisfied: setuptools>=18.5 in /Users/wolverine/anaconda/envs/py36/lib/python3.6/site-packages (from ipython>=4.0.0; python_version >= \"3.3\"->ipywidgets<8,>=7.0.0->ipyleaflet) (40.0.0)\r\n",
      "Requirement already satisfied: jedi>=0.10 in /Users/wolverine/anaconda/envs/py36/lib/python3.6/site-packages (from ipython>=4.0.0; python_version >= \"3.3\"->ipywidgets<8,>=7.0.0->ipyleaflet) (0.12.1)\r\n",
      "Requirement already satisfied: pyzmq>=13 in /Users/wolverine/anaconda/envs/py36/lib/python3.6/site-packages (from jupyter-client->ipykernel>=4.5.1->ipywidgets<8,>=7.0.0->ipyleaflet) (17.1.0)\r\n",
      "Requirement already satisfied: jinja2 in /Users/wolverine/anaconda/envs/py36/lib/python3.6/site-packages (from notebook>=4.4.1->widgetsnbextension~=3.4.0->ipywidgets<8,>=7.0.0->ipyleaflet) (2.10)\r\n",
      "Requirement already satisfied: Send2Trash in /Users/wolverine/anaconda/envs/py36/lib/python3.6/site-packages (from notebook>=4.4.1->widgetsnbextension~=3.4.0->ipywidgets<8,>=7.0.0->ipyleaflet) (1.5.0)\r\n",
      "Requirement already satisfied: terminado>=0.8.1 in /Users/wolverine/anaconda/envs/py36/lib/python3.6/site-packages (from notebook>=4.4.1->widgetsnbextension~=3.4.0->ipywidgets<8,>=7.0.0->ipyleaflet) (0.8.1)\r\n",
      "Requirement already satisfied: nbconvert in /Users/wolverine/anaconda/envs/py36/lib/python3.6/site-packages (from notebook>=4.4.1->widgetsnbextension~=3.4.0->ipywidgets<8,>=7.0.0->ipyleaflet) (5.3.1)\r\n",
      "Requirement already satisfied: prometheus-client in /Users/wolverine/anaconda/envs/py36/lib/python3.6/site-packages (from notebook>=4.4.1->widgetsnbextension~=3.4.0->ipywidgets<8,>=7.0.0->ipyleaflet) (0.3.1)\r\n",
      "Requirement already satisfied: wcwidth in /Users/wolverine/anaconda/envs/py36/lib/python3.6/site-packages (from prompt-toolkit<2.0.0,>=1.0.15->ipython>=4.0.0; python_version >= \"3.3\"->ipywidgets<8,>=7.0.0->ipyleaflet) (0.1.7)\r\n",
      "Requirement already satisfied: ptyprocess>=0.5 in /Users/wolverine/anaconda/envs/py36/lib/python3.6/site-packages (from pexpect; sys_platform != \"win32\"->ipython>=4.0.0; python_version >= \"3.3\"->ipywidgets<8,>=7.0.0->ipyleaflet) (0.6.0)\r\n",
      "Requirement already satisfied: parso>=0.3.0 in /Users/wolverine/anaconda/envs/py36/lib/python3.6/site-packages (from jedi>=0.10->ipython>=4.0.0; python_version >= \"3.3\"->ipywidgets<8,>=7.0.0->ipyleaflet) (0.3.1)\r\n",
      "Requirement already satisfied: MarkupSafe>=0.23 in /Users/wolverine/anaconda/envs/py36/lib/python3.6/site-packages (from jinja2->notebook>=4.4.1->widgetsnbextension~=3.4.0->ipywidgets<8,>=7.0.0->ipyleaflet) (1.0)\r\n",
      "Requirement already satisfied: bleach in /Users/wolverine/anaconda/envs/py36/lib/python3.6/site-packages (from nbconvert->notebook>=4.4.1->widgetsnbextension~=3.4.0->ipywidgets<8,>=7.0.0->ipyleaflet) (2.1.3)\r\n",
      "Requirement already satisfied: mistune>=0.7.4 in /Users/wolverine/anaconda/envs/py36/lib/python3.6/site-packages (from nbconvert->notebook>=4.4.1->widgetsnbextension~=3.4.0->ipywidgets<8,>=7.0.0->ipyleaflet) (0.8.3)\r\n",
      "Requirement already satisfied: testpath in /Users/wolverine/anaconda/envs/py36/lib/python3.6/site-packages (from nbconvert->notebook>=4.4.1->widgetsnbextension~=3.4.0->ipywidgets<8,>=7.0.0->ipyleaflet) (0.3.1)\r\n",
      "Requirement already satisfied: pandocfilters>=1.4.1 in /Users/wolverine/anaconda/envs/py36/lib/python3.6/site-packages (from nbconvert->notebook>=4.4.1->widgetsnbextension~=3.4.0->ipywidgets<8,>=7.0.0->ipyleaflet) (1.4.2)\r\n",
      "Requirement already satisfied: entrypoints>=0.2.2 in /Users/wolverine/anaconda/envs/py36/lib/python3.6/site-packages (from nbconvert->notebook>=4.4.1->widgetsnbextension~=3.4.0->ipywidgets<8,>=7.0.0->ipyleaflet) (0.2.3)\r\n",
      "Requirement already satisfied: html5lib!=1.0b1,!=1.0b2,!=1.0b3,!=1.0b4,!=1.0b5,!=1.0b6,!=1.0b7,!=1.0b8,>=0.99999999pre in /Users/wolverine/anaconda/envs/py36/lib/python3.6/site-packages (from bleach->nbconvert->notebook>=4.4.1->widgetsnbextension~=3.4.0->ipywidgets<8,>=7.0.0->ipyleaflet) (1.0.1)\r\n",
      "Requirement already satisfied: webencodings in /Users/wolverine/anaconda/envs/py36/lib/python3.6/site-packages (from html5lib!=1.0b1,!=1.0b2,!=1.0b3,!=1.0b4,!=1.0b5,!=1.0b6,!=1.0b7,!=1.0b8,>=0.99999999pre->bleach->nbconvert->notebook>=4.4.1->widgetsnbextension~=3.4.0->ipywidgets<8,>=7.0.0->ipyleaflet) (0.5.1)\r\n",
      "Installing collected packages: xarray, traittypes, ipyleaflet\r\n",
      "Successfully installed ipyleaflet-0.9.0 traittypes-0.2.1 xarray-0.10.8\r\n"
     ]
    }
   ],
   "source": [
    "!pip install ipyleaflet"
   ]
  },
  {
   "cell_type": "code",
   "execution_count": 24,
   "metadata": {},
   "outputs": [
    {
     "name": "stdout",
     "output_type": "stream",
     "text": [
      "Enabling notebook extension jupyter-leaflet/extension...\r\n",
      "      - Validating: \u001b[32mOK\u001b[0m\r\n"
     ]
    }
   ],
   "source": [
    "!jupyter nbextension enable --py ipyleaflet"
   ]
  },
  {
   "cell_type": "code",
   "execution_count": 25,
   "metadata": {
    "collapsed": false
   },
   "outputs": [
    {
     "name": "stdout",
     "output_type": "stream",
     "text": [
      "Requirement already up-to-date: getorg in /Users/wolverine/anaconda/envs/py36/lib/python3.6/site-packages (0.3.1)\r\n",
      "Requirement already satisfied, skipping upgrade: pygithub in /Users/wolverine/anaconda/envs/py36/lib/python3.6/site-packages (from getorg) (1.43)\r\n",
      "Requirement already satisfied, skipping upgrade: geopy in /Users/wolverine/anaconda/envs/py36/lib/python3.6/site-packages (from getorg) (1.16.0)\r\n",
      "Requirement already satisfied, skipping upgrade: retrying in /Users/wolverine/anaconda/envs/py36/lib/python3.6/site-packages (from getorg) (1.3.3)\r\n",
      "Requirement already satisfied, skipping upgrade: requests>=2.14.0 in /Users/wolverine/anaconda/envs/py36/lib/python3.6/site-packages (from pygithub->getorg) (2.19.1)\r\n",
      "Requirement already satisfied, skipping upgrade: pyjwt in /Users/wolverine/anaconda/envs/py36/lib/python3.6/site-packages (from pygithub->getorg) (1.6.4)\r\n",
      "Requirement already satisfied, skipping upgrade: geographiclib<2,>=1.49 in /Users/wolverine/anaconda/envs/py36/lib/python3.6/site-packages (from geopy->getorg) (1.49)\r\n",
      "Requirement already satisfied, skipping upgrade: six>=1.7.0 in /Users/wolverine/anaconda/envs/py36/lib/python3.6/site-packages (from retrying->getorg) (1.11.0)\r\n",
      "Requirement already satisfied, skipping upgrade: chardet<3.1.0,>=3.0.2 in /Users/wolverine/anaconda/envs/py36/lib/python3.6/site-packages (from requests>=2.14.0->pygithub->getorg) (3.0.4)\r\n",
      "Requirement already satisfied, skipping upgrade: idna<2.8,>=2.5 in /Users/wolverine/anaconda/envs/py36/lib/python3.6/site-packages (from requests>=2.14.0->pygithub->getorg) (2.7)\r\n",
      "Requirement already satisfied, skipping upgrade: urllib3<1.24,>=1.21.1 in /Users/wolverine/anaconda/envs/py36/lib/python3.6/site-packages (from requests>=2.14.0->pygithub->getorg) (1.23)\r\n",
      "Requirement already satisfied, skipping upgrade: certifi>=2017.4.17 in /Users/wolverine/anaconda/envs/py36/lib/python3.6/site-packages (from requests>=2.14.0->pygithub->getorg) (2018.4.16)\r\n"
     ]
    }
   ],
   "source": [
    "!pip install getorg --upgrade\n",
    "import glob\n",
    "import getorg\n",
    "from geopy import Nominatim"
   ]
  },
  {
   "cell_type": "code",
   "execution_count": 26,
   "metadata": {},
   "outputs": [
    {
     "name": "stdout",
     "output_type": "stream",
     "text": [
      "Requirement already satisfied: frontmatter in /Users/wolverine/anaconda/envs/py36/lib/python3.6/site-packages (1.0.1)\r\n",
      "Requirement already satisfied: PyYAML==3.12 in /Users/wolverine/anaconda/envs/py36/lib/python3.6/site-packages (from frontmatter) (3.12)\r\n"
     ]
    }
   ],
   "source": [
    "!pip install frontmatter"
   ]
  },
  {
   "cell_type": "code",
   "execution_count": 27,
   "metadata": {
    "collapsed": false
   },
   "outputs": [],
   "source": [
    "import glob\n",
    "import getorg\n",
    "from geopy import Nominatim\n",
    "import frontmatter"
   ]
  },
  {
   "cell_type": "code",
   "execution_count": 28,
   "metadata": {},
   "outputs": [],
   "source": [
    "g = glob.glob(\"_talks/*.md\")"
   ]
  },
  {
   "cell_type": "code",
   "execution_count": 29,
   "metadata": {
    "collapsed": true
   },
   "outputs": [
    {
     "name": "stderr",
     "output_type": "stream",
     "text": [
      "/Users/wolverine/anaconda/envs/py36/lib/python3.6/site-packages/geopy/geocoders/osm.py:138: UserWarning: Using Nominatim with the default \"geopy/1.16.0\" `user_agent` is strongly discouraged, as it violates Nominatim's ToS https://operations.osmfoundation.org/policies/nominatim/ and may possibly cause 403 and 429 HTTP errors. Please specify a custom `user_agent` with `Nominatim(user_agent=\"my-application\")` or by overriding the default `user_agent`: `geopy.geocoders.options.default_user_agent = \"my-application\"`. In geopy 2.0 this will become an exception.\n",
      "  UserWarning\n"
     ]
    }
   ],
   "source": [
    "geocoder = Nominatim()\n",
    "location_dict = {}\n",
    "location = \"\"\n",
    "permalink = \"\"\n",
    "title = \"\""
   ]
  },
  {
   "cell_type": "code",
   "execution_count": 30,
   "metadata": {},
   "outputs": [],
   "source": [
    "#a = frontmatter.load(file)\n",
    "#a.to_dict()"
   ]
  },
  {
   "cell_type": "code",
   "execution_count": 31,
   "metadata": {
    "collapsed": false
   },
   "outputs": [
    {
     "name": "stdout",
     "output_type": "stream",
     "text": [
      "Atlanta, GA \n",
      " Atlanta, Fulton County, Georgia, USA\n",
      "San Francisco, CA \n",
      " San Francisco, Rue Évangéline, Granby, La Haute-Yamaska, Montérégie, Québec, J2G 2Z5, Canada\n",
      "Orlando, FL \n",
      " Orlando, Orange County, Florida, USA\n",
      "New Orleans, LA \n",
      " New Orleans, Orleans Parish, Louisiana, USA\n",
      "Mumbai, India \n",
      " Mumbai, Mumbai City, Maharashtra, India\n",
      "Baton Rouge, LA \n",
      " Baton Rouge, East Baton Rouge Parish, Louisiana, USA\n"
     ]
    }
   ],
   "source": [
    "for file in g:\n",
    "    with open(file, 'r') as f:\n",
    "        lines = f.read()\n",
    "        if lines.find('location: \"') > 1:\n",
    "            loc_start = lines.find('location: \"') + 11\n",
    "            lines_trim = lines[loc_start:]\n",
    "            loc_end = lines_trim.find('\"')\n",
    "            location = lines_trim[:loc_end]\n",
    "                            \n",
    "           \n",
    "        location_dict[location] = geocoder.geocode(location)\n",
    "        print(location, \"\\n\", location_dict[location])\n"
   ]
  },
  {
   "cell_type": "code",
   "execution_count": 32,
   "metadata": {
    "collapsed": false
   },
   "outputs": [
    {
     "data": {
      "text/plain": [
       "'Written map to ../talkmap/'"
      ]
     },
     "execution_count": 32,
     "metadata": {},
     "output_type": "execute_result"
    }
   ],
   "source": [
    "m = getorg.orgmap.create_map_obj()\n",
    "getorg.orgmap.output_html_cluster_map(location_dict, folder_name=\"../talkmap\", hashed_usernames=False)"
   ]
  },
  {
   "cell_type": "code",
   "execution_count": null,
   "metadata": {
    "collapsed": true
   },
   "outputs": [],
   "source": []
  }
 ],
 "metadata": {
  "anaconda-cloud": {},
  "kernelspec": {
   "display_name": "Python3.6",
   "language": "python",
   "name": "python3"
  },
  "language_info": {
   "codemirror_mode": {
    "name": "ipython",
    "version": 3
   },
   "file_extension": ".py",
   "mimetype": "text/x-python",
   "name": "python",
   "nbconvert_exporter": "python",
   "pygments_lexer": "ipython3",
   "version": "3.6.6"
  }
 },
 "nbformat": 4,
 "nbformat_minor": 2
}
