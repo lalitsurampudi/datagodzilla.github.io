{
 "cells": [
  {
   "cell_type": "markdown",
   "metadata": {},
   "source": [
    "# Leaflet cluster map of talk locations\n",
    "\n",
    "Run this from the _talks/ directory, which contains .md files of all your talks. This scrapes the location YAML field from each .md file, geolocates it with geopy/Nominatim, and uses the getorg library to output data, HTML, and Javascript for a standalone cluster map."
   ]
  },
  {
   "cell_type": "code",
   "execution_count": 1,
   "metadata": {
    "collapsed": false
   },
   "outputs": [
    {
     "name": "stdout",
     "output_type": "stream",
     "text": [
      "Requirement already up-to-date: getorg in /Users/wolverine/anaconda/envs/py36/lib/python3.6/site-packages (0.3.1)\r\n",
      "Requirement already satisfied, skipping upgrade: geopy in /Users/wolverine/anaconda/envs/py36/lib/python3.6/site-packages (from getorg) (1.16.0)\r\n",
      "Requirement already satisfied, skipping upgrade: pygithub in /Users/wolverine/anaconda/envs/py36/lib/python3.6/site-packages (from getorg) (1.43)\r\n",
      "Requirement already satisfied, skipping upgrade: retrying in /Users/wolverine/anaconda/envs/py36/lib/python3.6/site-packages (from getorg) (1.3.3)\r\n",
      "Requirement already satisfied, skipping upgrade: geographiclib<2,>=1.49 in /Users/wolverine/anaconda/envs/py36/lib/python3.6/site-packages (from geopy->getorg) (1.49)\r\n",
      "Requirement already satisfied, skipping upgrade: pyjwt in /Users/wolverine/anaconda/envs/py36/lib/python3.6/site-packages (from pygithub->getorg) (1.6.4)\r\n",
      "Requirement already satisfied, skipping upgrade: requests>=2.14.0 in /Users/wolverine/anaconda/envs/py36/lib/python3.6/site-packages (from pygithub->getorg) (2.19.1)\r\n",
      "Requirement already satisfied, skipping upgrade: six>=1.7.0 in /Users/wolverine/anaconda/envs/py36/lib/python3.6/site-packages (from retrying->getorg) (1.11.0)\r\n",
      "Requirement already satisfied, skipping upgrade: chardet<3.1.0,>=3.0.2 in /Users/wolverine/anaconda/envs/py36/lib/python3.6/site-packages (from requests>=2.14.0->pygithub->getorg) (3.0.4)\r\n",
      "Requirement already satisfied, skipping upgrade: idna<2.8,>=2.5 in /Users/wolverine/anaconda/envs/py36/lib/python3.6/site-packages (from requests>=2.14.0->pygithub->getorg) (2.7)\r\n",
      "Requirement already satisfied, skipping upgrade: urllib3<1.24,>=1.21.1 in /Users/wolverine/anaconda/envs/py36/lib/python3.6/site-packages (from requests>=2.14.0->pygithub->getorg) (1.23)\r\n",
      "Requirement already satisfied, skipping upgrade: certifi>=2017.4.17 in /Users/wolverine/anaconda/envs/py36/lib/python3.6/site-packages (from requests>=2.14.0->pygithub->getorg) (2018.4.16)\r\n",
      "Iywidgets and ipyleaflet support disabled. You must be in a Jupyter notebook to use this feature.\n",
      "Error raised:\n",
      "No module named 'ipyleaflet'\n",
      "Check that you have enabled ipyleaflet in Jupyter with:\n",
      "    jupyter nbextension enable --py ipyleaflet\n"
     ]
    }
   ],
   "source": [
    "!pip install getorg --upgrade\n",
    "import glob\n",
    "import getorg\n",
    "from geopy import Nominatim"
   ]
  },
  {
   "cell_type": "code",
   "execution_count": 7,
   "metadata": {},
   "outputs": [
    {
     "name": "stdout",
     "output_type": "stream",
     "text": [
      "Collecting frontmatter\r\n",
      "  Downloading https://files.pythonhosted.org/packages/20/86/2ec2e7457e8dc5c6d3be5110a461ea69593d5a72339e63617304704bcb70/frontmatter-1.0.1.tar.gz\r\n",
      "Collecting PyYAML==3.12 (from frontmatter)\r\n",
      "Building wheels for collected packages: frontmatter\r\n",
      "  Running setup.py bdist_wheel for frontmatter ... \u001b[?25l-\b \bdone\r\n",
      "\u001b[?25h  Stored in directory: /Users/Wolverine/Library/Caches/pip/wheels/a8/f6/8d/ef55306c1209afd60cbf302d613e3a0254c5f31f98458c63cb\r\n",
      "Successfully built frontmatter\r\n",
      "Installing collected packages: PyYAML, frontmatter\r\n",
      "Successfully installed PyYAML-3.12 frontmatter-1.0.1\r\n"
     ]
    }
   ],
   "source": [
    "!pip install frontmatter"
   ]
  },
  {
   "cell_type": "code",
   "execution_count": 8,
   "metadata": {
    "collapsed": false
   },
   "outputs": [],
   "source": [
    "import glob\n",
    "import getorg\n",
    "from geopy import Nominatim\n",
    "import frontmatter"
   ]
  },
  {
   "cell_type": "code",
   "execution_count": 16,
   "metadata": {},
   "outputs": [],
   "source": [
    "g = glob.glob(\"_talks/*.md\")"
   ]
  },
  {
   "cell_type": "code",
   "execution_count": 17,
   "metadata": {
    "collapsed": true
   },
   "outputs": [
    {
     "name": "stderr",
     "output_type": "stream",
     "text": [
      "/Users/wolverine/anaconda/envs/py36/lib/python3.6/site-packages/geopy/geocoders/osm.py:138: UserWarning: Using Nominatim with the default \"geopy/1.16.0\" `user_agent` is strongly discouraged, as it violates Nominatim's ToS https://operations.osmfoundation.org/policies/nominatim/ and may possibly cause 403 and 429 HTTP errors. Please specify a custom `user_agent` with `Nominatim(user_agent=\"my-application\")` or by overriding the default `user_agent`: `geopy.geocoders.options.default_user_agent = \"my-application\"`. In geopy 2.0 this will become an exception.\n",
      "  UserWarning\n"
     ]
    }
   ],
   "source": [
    "geocoder = Nominatim()\n",
    "location_dict = {}\n",
    "location = \"\"\n",
    "permalink = \"\"\n",
    "title = \"\""
   ]
  },
  {
   "cell_type": "code",
   "execution_count": 21,
   "metadata": {},
   "outputs": [],
   "source": [
    "#a = frontmatter.load(file)\n",
    "#a.to_dict()"
   ]
  },
  {
   "cell_type": "code",
   "execution_count": 18,
   "metadata": {
    "collapsed": false
   },
   "outputs": [
    {
     "name": "stdout",
     "output_type": "stream",
     "text": [
      "Atlanta, GA \n",
      " Atlanta, Fulton County, Georgia, USA\n",
      "San Francisco, CA \n",
      " San Francisco, Rue Évangéline, Granby, La Haute-Yamaska, Montérégie, Québec, J2G 2Z5, Canada\n",
      "Orlando, FL \n",
      " Orlando, Orange County, Florida, USA\n",
      "New Orleans, LA \n",
      " New Orleans, Orleans Parish, Louisiana, USA\n",
      "Mumbai, India \n",
      " Mumbai, Mumbai City, Maharashtra, India\n",
      "Baton Rouge, LA \n",
      " Baton Rouge, East Baton Rouge Parish, Louisiana, USA\n"
     ]
    }
   ],
   "source": [
    "for file in g:\n",
    "    with open(file, 'r') as f:\n",
    "        lines = f.read()\n",
    "        if lines.find('location: \"') > 1:\n",
    "            loc_start = lines.find('location: \"') + 11\n",
    "            lines_trim = lines[loc_start:]\n",
    "            loc_end = lines_trim.find('\"')\n",
    "            location = lines_trim[:loc_end]\n",
    "                            \n",
    "           \n",
    "        location_dict[location] = geocoder.geocode(location)\n",
    "        print(location, \"\\n\", location_dict[location])\n"
   ]
  },
  {
   "cell_type": "code",
   "execution_count": 19,
   "metadata": {
    "collapsed": false
   },
   "outputs": [
    {
     "data": {
      "text/plain": [
       "'Written map to ../talkmap/'"
      ]
     },
     "execution_count": 19,
     "metadata": {},
     "output_type": "execute_result"
    }
   ],
   "source": [
    "m = getorg.orgmap.create_map_obj()\n",
    "getorg.orgmap.output_html_cluster_map(location_dict, folder_name=\"../talkmap\", hashed_usernames=False)"
   ]
  },
  {
   "cell_type": "code",
   "execution_count": null,
   "metadata": {
    "collapsed": true
   },
   "outputs": [],
   "source": []
  }
 ],
 "metadata": {
  "anaconda-cloud": {},
  "kernelspec": {
   "display_name": "Python3.6",
   "language": "python",
   "name": "python3"
  },
  "language_info": {
   "codemirror_mode": {
    "name": "ipython",
    "version": 3
   },
   "file_extension": ".py",
   "mimetype": "text/x-python",
   "name": "python",
   "nbconvert_exporter": "python",
   "pygments_lexer": "ipython3",
   "version": "3.6.6"
  }
 },
 "nbformat": 4,
 "nbformat_minor": 2
}
